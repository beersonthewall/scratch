{
 "cells": [
  {
   "cell_type": "code",
   "execution_count": 25,
   "id": "8206d0af-2ae7-4ea8-89e7-ba1a1641210c",
   "metadata": {},
   "outputs": [],
   "source": [
    "import torch\n",
    "import math"
   ]
  },
  {
   "cell_type": "markdown",
   "id": "702f5a0a-8e3c-4382-b902-df8239410e18",
   "metadata": {},
   "source": [
    "# Tensors\n",
    "\n",
    "Following along with the PyTorch beginner Youtube playlist."
   ]
  },
  {
   "cell_type": "markdown",
   "id": "446015e6-beed-439d-a46e-33979e843b1a",
   "metadata": {
    "jp-MarkdownHeadingCollapsed": true
   },
   "source": [
    "## Basic Tensor Creation\n",
    "\n",
    "We can setup an empty tensor with 2 rows and three cols."
   ]
  },
  {
   "cell_type": "code",
   "execution_count": 26,
   "id": "5740a93e-ffd4-4d27-b0a2-f2b1cacb68ef",
   "metadata": {
    "scrolled": true
   },
   "outputs": [
    {
     "name": "stdout",
     "output_type": "stream",
     "text": [
      "<class 'torch.Tensor'>\n",
      "tensor([[1.9361e+02, 4.5712e-41, 8.9200e-38],\n",
      "        [3.0928e-41, 4.4842e-44, 0.0000e+00]])\n"
     ]
    }
   ],
   "source": [
    "x = torch.empty(2,3)\n",
    "print(type(x))\n",
    "print(x)"
   ]
  },
  {
   "cell_type": "markdown",
   "id": "ff870ee9-a89b-49f9-b513-042e5fccfcec",
   "metadata": {},
   "source": [
    "PyTorch also provides other initialization methods like zeros, ones, and rand."
   ]
  },
  {
   "cell_type": "code",
   "execution_count": 27,
   "id": "442c6cdf-56f3-40b0-805e-63cb5cd87764",
   "metadata": {},
   "outputs": [
    {
     "name": "stdout",
     "output_type": "stream",
     "text": [
      "tensor([[0., 0., 0.],\n",
      "        [0., 0., 0.]])\n",
      "tensor([[1., 1., 1.],\n",
      "        [1., 1., 1.]])\n",
      "tensor([[0.8823, 0.9150, 0.3829],\n",
      "        [0.9593, 0.3904, 0.6009]])\n",
      "tensor([[0.2566, 0.7936, 0.9408],\n",
      "        [0.1332, 0.9346, 0.5936]])\n"
     ]
    }
   ],
   "source": [
    "zeros = torch.zeros(2,3)\n",
    "print(zeros)\n",
    "\n",
    "ones = torch.ones(2,3)\n",
    "print(ones)\n",
    "\n",
    "torch.manual_seed(42)\n",
    "random = torch.rand(2,3)\n",
    "print(random)\n",
    "\n",
    "random2 = torch.rand(2,3)\n",
    "print(random2)"
   ]
  },
  {
   "cell_type": "code",
   "execution_count": 28,
   "id": "a8fa9904-116e-4940-9548-8f3c6d2abb75",
   "metadata": {
    "editable": true,
    "slideshow": {
     "slide_type": ""
    },
    "tags": []
   },
   "outputs": [
    {
     "name": "stdout",
     "output_type": "stream",
     "text": [
      "tensor([[4., 4., 4.],\n",
      "        [4., 4., 4.]])\n",
      "torch.Size([2, 3])\n",
      "2\n"
     ]
    }
   ],
   "source": [
    "result = (ones * 3) + ones\n",
    "print(result)\n",
    "print(result.shape)\n",
    "print(len(result.shape))"
   ]
  },
  {
   "cell_type": "markdown",
   "id": "b30ccc01-849d-4068-9c71-a25f7ae4ed0e",
   "metadata": {},
   "source": [
    "The *_like methods provide a way to create a tensor with the same shape as the provided tensor."
   ]
  },
  {
   "cell_type": "code",
   "execution_count": 30,
   "id": "0ceff777-5576-4452-b291-ae38160be47c",
   "metadata": {},
   "outputs": [
    {
     "name": "stdout",
     "output_type": "stream",
     "text": [
      "torch.Size([2, 3])\n",
      "tensor([[1.0121e-37, 3.0928e-41, 1.9361e+02],\n",
      "        [4.5712e-41, 4.4842e-44, 0.0000e+00]])\n",
      "torch.Size([2, 3])\n",
      "tensor([[1.9361e+02, 4.5712e-41, 8.9073e-38],\n",
      "        [3.0928e-41, 0.0000e+00, 0.0000e+00]])\n",
      "torch.Size([2, 3])\n",
      "tensor([[0., 0., 0.],\n",
      "        [0., 0., 0.]])\n",
      "torch.Size([2, 3])\n",
      "tensor([[0.2666, 0.6274, 0.2696],\n",
      "        [0.4414, 0.2969, 0.8317]])\n"
     ]
    }
   ],
   "source": [
    "x = torch.empty(2,3)\n",
    "print(x.shape)\n",
    "print(x)\n",
    "\n",
    "# the *_like methods produce tensors w/ the same shape as the provided tensor.\n",
    "y = torch.empty_like(x)\n",
    "print(y.shape)\n",
    "print(y)\n",
    "\n",
    "z = torch.zeros_like(x)\n",
    "print(z.shape)\n",
    "print(z)\n",
    "\n",
    "random_like = torch.rand_like(x)\n",
    "print(random_like.shape)\n",
    "print(random_like)"
   ]
  },
  {
   "cell_type": "markdown",
   "id": "ceca35f6-2f1e-465f-9250-302246c4bdae",
   "metadata": {},
   "source": [
    "We can also create tensors from regular collections."
   ]
  },
  {
   "cell_type": "code",
   "execution_count": 31,
   "id": "8aa9507a-7e67-4216-bd1b-e75b4cb48370",
   "metadata": {},
   "outputs": [
    {
     "name": "stdout",
     "output_type": "stream",
     "text": [
      "torch.Size([2, 2])\n",
      "tensor([[1., 1.],\n",
      "        [2., 2.]])\n"
     ]
    }
   ],
   "source": [
    "from_collection = torch.tensor([[1.0, 1.0], [2.0, 2.0]])\n",
    "print(from_collection.shape)\n",
    "print(from_collection)"
   ]
  },
  {
   "cell_type": "markdown",
   "id": "ed15e0df-5d4a-4c41-af38-78dfbf873a65",
   "metadata": {
    "jp-MarkdownHeadingCollapsed": true
   },
   "source": [
    "## Data Types\n",
    "\n",
    "Tensors can have different data types, the default being float32. The full list being:\n",
    "\n",
    "- bool\n",
    "- int8\n",
    "- uint8\n",
    "- int16\n",
    "- int32\n",
    "- int64\n",
    "- half\n",
    "- float\n",
    "- double\n",
    "- bfloat"
   ]
  },
  {
   "cell_type": "code",
   "execution_count": 33,
   "id": "57754d8e-5a67-4804-8648-a6f908702b5c",
   "metadata": {},
   "outputs": [
    {
     "name": "stdout",
     "output_type": "stream",
     "text": [
      "tensor([[1, 1, 1],\n",
      "        [1, 1, 1]], dtype=torch.int16)\n",
      "tensor([[0.6234, 0.4373, 0.0747],\n",
      "        [0.6834, 0.3122, 0.3091]], dtype=torch.float64)\n",
      "tensor([[0, 0, 0],\n",
      "        [0, 0, 0]], dtype=torch.int32)\n",
      "torch.float32\n"
     ]
    }
   ],
   "source": [
    "a = torch.ones((2,3), dtype=torch.int16)\n",
    "print(a)\n",
    "\n",
    "b = torch.rand((2,3), dtype=torch.float64)\n",
    "print(b)\n",
    "\n",
    "c = b.to(torch.int32)\n",
    "print(c)\n",
    "\n",
    "default = torch.zeros(2,3)\n",
    "print(default.dtype)"
   ]
  },
  {
   "cell_type": "markdown",
   "id": "a04048b8-89ec-4d8a-90bc-9191922ab321",
   "metadata": {},
   "source": [
    "## Math & Logic\n",
    "\n",
    "Basic arithmetic and scalar operations."
   ]
  },
  {
   "cell_type": "code",
   "execution_count": 34,
   "id": "e7f1c9d4-6e1d-46f9-a91f-df30ddbd9733",
   "metadata": {},
   "outputs": [
    {
     "name": "stdout",
     "output_type": "stream",
     "text": [
      "tensor([[1., 1., 1.],\n",
      "        [1., 1., 1.]])\n",
      "tensor([[2., 2., 2.],\n",
      "        [2., 2., 2.]])\n",
      "tensor([[4., 4., 4.],\n",
      "        [4., 4., 4.]])\n",
      "tensor([[1.4142, 1.4142, 1.4142],\n",
      "        [1.4142, 1.4142, 1.4142]])\n"
     ]
    }
   ],
   "source": [
    "ones = torch.ones(2,3)\n",
    "twos = torch.ones(2,3) * 2\n",
    "fours = twos ** 2\n",
    "sqrts = twos ** 0.5\n",
    "\n",
    "print(ones)\n",
    "print(twos)\n",
    "print(fours)\n",
    "print(sqrts)"
   ]
  },
  {
   "cell_type": "markdown",
   "id": "9d520051-74ca-43ec-8720-7197cece6223",
   "metadata": {},
   "source": [
    "Tensors must be the same shape for operations to work. The multiplication below will result in an error."
   ]
  },
  {
   "cell_type": "code",
   "execution_count": 37,
   "id": "992fcc4c-9231-4310-9ba3-d9dd63b27944",
   "metadata": {},
   "outputs": [
    {
     "ename": "RuntimeError",
     "evalue": "The size of tensor a (3) must match the size of tensor b (2) at non-singleton dimension 1",
     "output_type": "error",
     "traceback": [
      "\u001b[0;31m---------------------------------------------------------------------------\u001b[0m",
      "\u001b[0;31mRuntimeError\u001b[0m                              Traceback (most recent call last)",
      "Cell \u001b[0;32mIn[37], line 3\u001b[0m\n\u001b[1;32m      1\u001b[0m a \u001b[38;5;241m=\u001b[39m torch\u001b[38;5;241m.\u001b[39mrand(\u001b[38;5;241m2\u001b[39m,\u001b[38;5;241m3\u001b[39m)\n\u001b[1;32m      2\u001b[0m b \u001b[38;5;241m=\u001b[39m torch\u001b[38;5;241m.\u001b[39mrand(\u001b[38;5;241m3\u001b[39m,\u001b[38;5;241m2\u001b[39m)\n\u001b[0;32m----> 3\u001b[0m \u001b[43ma\u001b[49m\u001b[43m \u001b[49m\u001b[38;5;241;43m*\u001b[39;49m\u001b[43m \u001b[49m\u001b[43mb\u001b[49m\n",
      "\u001b[0;31mRuntimeError\u001b[0m: The size of tensor a (3) must match the size of tensor b (2) at non-singleton dimension 1"
     ]
    }
   ],
   "source": [
    "a = torch.rand(2,3)\n",
    "b = torch.rand(3,2)\n",
    "a * b"
   ]
  },
  {
   "cell_type": "markdown",
   "id": "8a1e53fb-987a-4ccc-b202-0fc21f3e5347",
   "metadata": {},
   "source": [
    "## Tensor Broadcasting\n",
    "\n",
    "In general tensors need to be the same shape for operations to work, however there is an exception. In the case below the 1x4 tensor is multiplied by both columns of rand. Broadcasting will occur when tensors have similarities in their shape."
   ]
  },
  {
   "cell_type": "code",
   "execution_count": 36,
   "id": "3ea0c274-5cb8-477b-878c-6aa2fa9904d8",
   "metadata": {},
   "outputs": [
    {
     "name": "stdout",
     "output_type": "stream",
     "text": [
      "tensor([[0.7539, 0.1952, 0.0050, 0.3068],\n",
      "        [0.1165, 0.9103, 0.6440, 0.7071]])\n",
      "tensor([[1.5078, 0.3905, 0.0101, 0.6136],\n",
      "        [0.2330, 1.8205, 1.2880, 1.4142]])\n"
     ]
    }
   ],
   "source": [
    "rand = torch.rand(2,4)\n",
    "double = rand * (torch.ones(1,4) * 2)\n",
    "print(rand)\n",
    "print(double)"
   ]
  },
  {
   "cell_type": "markdown",
   "id": "6e206b80-22c2-479a-bcc6-2f383c0c65ee",
   "metadata": {},
   "source": [
    "### Broadcasting Rules\n",
    "\n",
    "- Each tensor must have one dimension (no empty tensors)\n",
    "- Comparing the dimension sizes of the two tensors, going from last to first:\n",
    "  - Each dimension must be equal or\n",
    "  - One of the dimensions must be of size 1 or\n",
    "  - The dimension does not exist in one of the tensors\n"
   ]
  },
  {
   "cell_type": "markdown",
   "id": "2089ca14-2bc7-48be-afcd-f547ccb9260f",
   "metadata": {},
   "source": [
    "## Common Tensor Operations\n"
   ]
  },
  {
   "cell_type": "code",
   "execution_count": 41,
   "id": "6c7080df-d33d-485f-9f1e-f4c3a9e1c7ca",
   "metadata": {},
   "outputs": [
    {
     "name": "stdout",
     "output_type": "stream",
     "text": [
      "tensor([[0.5720, 0.7770, 0.5046],\n",
      "        [0.3049, 0.2114, 0.2550],\n",
      "        [0.5961, 0.6798, 0.7252]])\n",
      "tensor([[1., -0., -0.],\n",
      "        [1., 1., -0.],\n",
      "        [1., 1., -0.]])\n",
      "tensor([[ 0., -1., -1.],\n",
      "        [ 0.,  0., -1.],\n",
      "        [ 0.,  0., -1.]])\n",
      "tensor([[ 0.5000, -0.5000, -0.5000],\n",
      "        [ 0.3049,  0.2114, -0.2550],\n",
      "        [ 0.5000,  0.5000, -0.5000]])\n"
     ]
    }
   ],
   "source": [
    "r = torch.rand(3,3) * 2 - 1\n",
    "\n",
    "print(torch.abs(r))\n",
    "print(torch.ceil(r))\n",
    "print(torch.floor(r))\n",
    "print(torch.clamp(r, -0.5, 0.5))"
   ]
  },
  {
   "cell_type": "code",
   "execution_count": 44,
   "id": "7eed2cdf-9fef-4463-b406-50f8a462c3e9",
   "metadata": {},
   "outputs": [
    {
     "name": "stdout",
     "output_type": "stream",
     "text": [
      "Sine and arcsine\n",
      "tensor([0.0000, 0.7854, 1.5708, 2.3562])\n",
      "tensor([0.0000, 0.7071, 1.0000, 0.7071])\n",
      "tensor([0.0000, 0.7854, 1.5708, 0.7854])\n"
     ]
    }
   ],
   "source": [
    "angles = torch.tensor([0, math.pi / 4, math.pi / 2, 3 * math.pi / 4])\n",
    "sines = torch.sin(angles)\n",
    "inverses = torch.asin(sines)\n",
    "print(\"Sine and arcsine\")\n",
    "print(angles)\n",
    "print(sines)\n",
    "print(inverses)"
   ]
  },
  {
   "cell_type": "code",
   "execution_count": 45,
   "id": "da5d5c97-4479-4cf0-a3e0-ae3be0f36161",
   "metadata": {},
   "outputs": [
    {
     "name": "stdout",
     "output_type": "stream",
     "text": [
      "tensor([3, 2, 1])\n"
     ]
    }
   ],
   "source": [
    "b = torch.tensor([1,5,11])\n",
    "c = torch.tensor([2,7,10])\n",
    "print(torch.bitwise_xor(b,c))"
   ]
  },
  {
   "cell_type": "code",
   "execution_count": 47,
   "id": "009df5fc-9a30-40e9-b770-5a441143c4f3",
   "metadata": {},
   "outputs": [
    {
     "name": "stdout",
     "output_type": "stream",
     "text": [
      "tensor([[1., 2.],\n",
      "        [3., 4.]])\n",
      "tensor([[1., 1.]])\n",
      "tensor([[ True, False],\n",
      "        [False, False]])\n"
     ]
    }
   ],
   "source": [
    "d = torch.tensor([[1.,2.], [3., 4.]])\n",
    "e = torch.ones(1,2)\n",
    "print(d)\n",
    "print(e)\n",
    "print(torch.eq(d,e))"
   ]
  },
  {
   "cell_type": "code",
   "execution_count": 50,
   "id": "4a8f9be1-0340-43ab-9770-e65706f7427f",
   "metadata": {},
   "outputs": [
    {
     "name": "stdout",
     "output_type": "stream",
     "text": [
      "tensor(4.)\n",
      "4.0\n",
      "tensor(2.5000)\n",
      "tensor(1.2910)\n",
      "tensor(24.)\n",
      "tensor([1, 2])\n"
     ]
    }
   ],
   "source": [
    "print(torch.max(d))\n",
    "print(torch.max(d).item())\n",
    "print(torch.mean(d))\n",
    "print(torch.std(d))\n",
    "print(torch.prod(d))\n",
    "print(torch.unique(torch.tensor([1,2,1,2,1,2])))"
   ]
  },
  {
   "cell_type": "code",
   "execution_count": 58,
   "id": "ff141c05-2d1c-4b63-bde8-22eb1f5a601a",
   "metadata": {},
   "outputs": [
    {
     "name": "stdout",
     "output_type": "stream",
     "text": [
      "tensor([0., 0., 1.])\n",
      "tensor([[0.2007, 0.5014],\n",
      "        [0.3139, 0.4654]])\n",
      "tensor([[0.6020, 1.5042],\n",
      "        [0.9418, 1.3961]])\n",
      "torch.return_types.svd(\n",
      "U=tensor([[-0.6930, -0.7210],\n",
      "        [-0.7210,  0.6930]]),\n",
      "S=tensor([2.3237, 0.2480]),\n",
      "V=tensor([[-0.4718,  0.8817],\n",
      "        [-0.8817, -0.4718]]))\n"
     ]
    }
   ],
   "source": [
    "v1 = torch.tensor([1.,0.,0.])\n",
    "v2 = torch.tensor([0.,1.,0.])\n",
    "\n",
    "m1 = torch.rand(2,2)\n",
    "m2 = torch.tensor([[3., 0.], [0., 3.]])\n",
    "\n",
    "print(torch.cross(v1, v2))\n",
    "print(m1)\n",
    "# torch.mm, torch.malmul, and torch.mul all have differect matrix ops wrt to broadcasting and element-wise ops. Could be confusing.\n",
    "m3 = torch.matmul(m1, m2)\n",
    "print(m3)\n",
    "print(torch.svd(m3))"
   ]
  },
  {
   "cell_type": "markdown",
   "id": "cd8e3978-d807-4240-80fd-54eaf902cfab",
   "metadata": {},
   "source": [
    "## In Place Operations\n",
    "\n",
    "Most tensor operations have versions with an underscore suffix. e.g. tensor.sin_(x). These operations will modify the input tensor in-place instead of creating a new output tensor."
   ]
  },
  {
   "cell_type": "code",
   "execution_count": 65,
   "id": "c7212e37-86b3-4e95-9d79-fe12353754d4",
   "metadata": {},
   "outputs": [
    {
     "name": "stdout",
     "output_type": "stream",
     "text": [
      "Original: tensor([0.0000, 0.7854, 1.5708, 2.3562])\n",
      "sin     : tensor([0.0000, 0.7071, 1.0000, 0.7071])\n",
      "Original: tensor([0.0000, 0.7854, 1.5708, 2.3562])\n",
      "in-place: tensor([0.0000, 0.7071, 1.0000, 0.7071])\n",
      "Original: tensor([0.0000, 0.7071, 1.0000, 0.7071])\n"
     ]
    }
   ],
   "source": [
    "a = torch.tensor([0, math.pi / 4, math.pi / 2, 3 * math.pi / 4])\n",
    "print(f\"Original: {a}\")\n",
    "print(f\"sin     : {torch.sin(a)}\")\n",
    "print(f\"Original: {a}\")\n",
    "\n",
    "print(f\"in-place: {torch.sin_(a)}\")\n",
    "print(f\"Original: {a}\")"
   ]
  },
  {
   "cell_type": "markdown",
   "id": "3b4a7698-44bb-4a3f-820a-10b002b744e2",
   "metadata": {},
   "source": [
    "We can use the 'out' parameter to output data without (necessarily) allocating extra memory if we've already got it around."
   ]
  },
  {
   "cell_type": "code",
   "execution_count": 70,
   "id": "fd8e8f27-53b9-4fe7-82e0-78a0946e9abd",
   "metadata": {},
   "outputs": [
    {
     "name": "stdout",
     "output_type": "stream",
     "text": [
      "tensor([[0., 0.],\n",
      "        [0., 0.]])\n",
      "tensor([[0.4250, 0.2709],\n",
      "        [0.9295, 0.6115]])\n"
     ]
    }
   ],
   "source": [
    "a = torch.rand(2,2)\n",
    "b = torch.rand(2,2)\n",
    "c = torch.zeros(2,2)\n",
    "old_id = id(c)\n",
    "\n",
    "print(c)\n",
    "d = torch.matmul(a, b, out=c)\n",
    "assert c is d\n",
    "assert id(c), old_id\n",
    "\n",
    "torch.rand(2,2, out=c)\n",
    "print(c)\n",
    "assert id(c), old_id"
   ]
  },
  {
   "cell_type": "markdown",
   "id": "ac4f5c4c-f5c3-4797-a92d-59efff2ade58",
   "metadata": {},
   "source": [
    "## Copying Tensors\n",
    "\n",
    "Assigning a tensor to a variable makes the variable a _label_ of the the tensor. It does not copy the tensor."
   ]
  },
  {
   "cell_type": "code",
   "execution_count": 66,
   "id": "be7618ee-1443-44d3-9dfb-acf72bbe556a",
   "metadata": {},
   "outputs": [
    {
     "name": "stdout",
     "output_type": "stream",
     "text": [
      "tensor(2.)\n"
     ]
    }
   ],
   "source": [
    "a = torch.ones(2,2)\n",
    "b = a\n",
    "a[0][1] = 2\n",
    "print(b[0][1])"
   ]
  },
  {
   "cell_type": "markdown",
   "id": "7aae2061-e58c-4700-9b39-81b837f950eb",
   "metadata": {},
   "source": [
    "If we do want to copy the tensor, we have the clone() method. Important to note, autograd enable/disable state IS copied with clone()"
   ]
  },
  {
   "cell_type": "code",
   "execution_count": 72,
   "id": "5657158a-dd8f-4145-80c3-9aac70cba941",
   "metadata": {},
   "outputs": [
    {
     "name": "stdout",
     "output_type": "stream",
     "text": [
      "tensor([[True, True],\n",
      "        [True, True]])\n",
      "tensor([[ 1., 42.],\n",
      "        [ 1.,  1.]])\n",
      "tensor([[1., 1.],\n",
      "        [1., 1.]])\n"
     ]
    }
   ],
   "source": [
    "a = torch.ones(2,2)\n",
    "b = a.clone()\n",
    "assert b is not a\n",
    "print(torch.eq(a,b))\n",
    "a[0][1] = 42\n",
    "print(a)\n",
    "print(b)"
   ]
  },
  {
   "cell_type": "markdown",
   "id": "b4e916f9-c76a-472b-9abe-c8febcbd9124",
   "metadata": {},
   "source": [
    "## Moving to GPU\n",
    "\n",
    "By default tensor operations aren't computed on the GPU."
   ]
  },
  {
   "cell_type": "code",
   "execution_count": 73,
   "id": "eedd717f-7528-4e83-8547-7122783df39e",
   "metadata": {},
   "outputs": [
    {
     "name": "stdout",
     "output_type": "stream",
     "text": [
      "GPU WOOOOOO!\n"
     ]
    }
   ],
   "source": [
    "if torch.cuda.is_available():\n",
    "    print(\"GPU WOOOOOO!\")\n",
    "else:\n",
    "    print(\"Sad :(\")"
   ]
  },
  {
   "cell_type": "markdown",
   "id": "1ee41d8e-2aa4-4ace-8005-e077cdfc778a",
   "metadata": {},
   "source": [
    "Once we know a GPU device exists, we can allocate the tensor into the GPU's memory."
   ]
  },
  {
   "cell_type": "code",
   "execution_count": 75,
   "id": "20cd23d3-aba2-4096-81f2-e9f50292b7d3",
   "metadata": {},
   "outputs": [
    {
     "name": "stdout",
     "output_type": "stream",
     "text": [
      "tensor([[0.9877, 0.1289],\n",
      "        [0.5621, 0.5221]], device='cuda:0')\n"
     ]
    }
   ],
   "source": [
    "if torch.cuda.is_available():\n",
    "    gpu = torch.rand(2,2, device=\"cuda\")\n",
    "    print(gpu)\n",
    "else:\n",
    "    print(\"sad\")"
   ]
  },
  {
   "cell_type": "code",
   "execution_count": 81,
   "id": "aa2310a5-caf8-4da5-bcc3-197f1c1028ea",
   "metadata": {},
   "outputs": [
    {
     "name": "stdout",
     "output_type": "stream",
     "text": [
      "1\n"
     ]
    }
   ],
   "source": [
    "print(torch.cuda.device_count())\n",
    "# If we had more than 1, can specify with index e.g. torch.device('cuda:1')"
   ]
  },
  {
   "cell_type": "code",
   "execution_count": 80,
   "id": "75bec20b-4ee9-4423-9952-541088e45c2e",
   "metadata": {},
   "outputs": [
    {
     "name": "stdout",
     "output_type": "stream",
     "text": [
      "tensor([[0.6783, 0.8870],\n",
      "        [0.0293, 0.6161]], device='cuda:0')\n"
     ]
    }
   ],
   "source": [
    "device = torch.device('cuda') if torch.cuda.is_available() else torch.device('cpu')\n",
    "\n",
    "y = torch.rand(2,2)\n",
    "y = y.to(device)\n",
    "print(y)"
   ]
  },
  {
   "cell_type": "markdown",
   "id": "77961848-3c80-4c69-9bc9-c4d7a5ba8e63",
   "metadata": {},
   "source": [
    "## Manipulating Tensor Shapes\n",
    "\n",
    "Sometimes tensor shapes need to change. Let's say we trained a model using tensors of N x 3 X 226 x 226 where N is the batch size. How do we do inference if we have one image as a 3 X 226 X 226 tensor?"
   ]
  },
  {
   "cell_type": "code",
   "execution_count": 83,
   "id": "2543332b-5fb2-4790-a52f-d40a0944f98c",
   "metadata": {},
   "outputs": [
    {
     "name": "stdout",
     "output_type": "stream",
     "text": [
      "torch.Size([3, 226, 226])\n",
      "torch.Size([1, 3, 226, 226])\n"
     ]
    }
   ],
   "source": [
    "a = torch.rand(3,226,226)\n",
    "b = a.unsqueeze(0)\n",
    "print(a.shape)\n",
    "print(b.shape)"
   ]
  },
  {
   "cell_type": "markdown",
   "id": "22ee914c-72e7-4612-bb86-e0c81f9226c3",
   "metadata": {},
   "source": [
    "We can see that `unsqueeze(0)` added an extra 0th dimension!"
   ]
  },
  {
   "cell_type": "code",
   "execution_count": 88,
   "id": "0c30c01f-9f3b-4bce-aeae-69d9217cf8bf",
   "metadata": {},
   "outputs": [
    {
     "name": "stdout",
     "output_type": "stream",
     "text": [
      "torch.Size([1, 20])\n",
      "tensor([[0.4300, 0.2789, 0.1550, 0.3292, 0.1149, 0.4141, 0.5295, 0.9095, 0.4063,\n",
      "         0.2977, 0.5557, 0.9447, 0.6380, 0.5311, 0.3390, 0.2882, 0.5134, 0.1086,\n",
      "         0.2092, 0.8087]])\n",
      "torch.Size([20])\n",
      "tensor([0.4300, 0.2789, 0.1550, 0.3292, 0.1149, 0.4141, 0.5295, 0.9095, 0.4063,\n",
      "        0.2977, 0.5557, 0.9447, 0.6380, 0.5311, 0.3390, 0.2882, 0.5134, 0.1086,\n",
      "        0.2092, 0.8087])\n",
      "torch.Size([2, 2])\n",
      "torch.Size([2, 2])\n"
     ]
    }
   ],
   "source": [
    "a = torch.rand(1,20)\n",
    "print(a.shape)\n",
    "print(a)\n",
    "\n",
    "b = a.squeeze(0)\n",
    "print(b.shape)\n",
    "print(b)\n",
    "\n",
    "c = torch.rand(2,2)\n",
    "print(c.shape)\n",
    "\n",
    "d = c.squeeze(0)\n",
    "print(d.shape)"
   ]
  },
  {
   "cell_type": "markdown",
   "id": "9a8c0243-313e-4661-abf9-33f6119fdcbb",
   "metadata": {},
   "source": [
    "We may only squeeze dimensions of extent 1."
   ]
  },
  {
   "cell_type": "code",
   "execution_count": 89,
   "id": "323a1d47-43bf-4232-9949-a59a29818f32",
   "metadata": {},
   "outputs": [
    {
     "name": "stdout",
     "output_type": "stream",
     "text": [
      "torch.Size([3, 1])\n",
      "tensor([[[0.7837, 0.7837],\n",
      "         [0.5438, 0.5438],\n",
      "         [0.3064, 0.3064]],\n",
      "\n",
      "        [[0.7837, 0.7837],\n",
      "         [0.5438, 0.5438],\n",
      "         [0.3064, 0.3064]],\n",
      "\n",
      "        [[0.7837, 0.7837],\n",
      "         [0.5438, 0.5438],\n",
      "         [0.3064, 0.3064]],\n",
      "\n",
      "        [[0.7837, 0.7837],\n",
      "         [0.5438, 0.5438],\n",
      "         [0.3064, 0.3064]]])\n"
     ]
    }
   ],
   "source": [
    "a = torch.ones(4,3,2)\n",
    "b = torch.rand(  3)\n",
    "c = b.unsqueeze(1)\n",
    "print(c.shape)\n",
    "print(a * c)"
   ]
  },
  {
   "cell_type": "markdown",
   "id": "b3953533-a5b1-4679-8f28-f3cfff238dca",
   "metadata": {},
   "source": [
    "Sometimes we need more shape change than (un)sequeeze can provide. In those cases we have `reshape()`."
   ]
  },
  {
   "cell_type": "code",
   "execution_count": 94,
   "id": "617ef708-6059-475c-aa3f-c532d3ea8182",
   "metadata": {},
   "outputs": [
    {
     "name": "stdout",
     "output_type": "stream",
     "text": [
      "torch.Size([6, 20, 20])\n",
      "torch.Size([2400])\n"
     ]
    }
   ],
   "source": [
    "output3d = torch.rand(6,20,20)\n",
    "print(output3d.shape)\n",
    "\n",
    "input1d = output3d.reshape(6 * 20 * 20)\n",
    "print(input1d.shape)"
   ]
  },
  {
   "cell_type": "markdown",
   "id": "91e12560-9052-45d9-9a04-9e4df36d9962",
   "metadata": {},
   "source": [
    "## Numpy Bridge"
   ]
  },
  {
   "cell_type": "code",
   "execution_count": 95,
   "id": "2c0c4db3-7bd8-462d-8dee-094094f3d59e",
   "metadata": {},
   "outputs": [
    {
     "name": "stdout",
     "output_type": "stream",
     "text": [
      "[[1. 1. 1.]\n",
      " [1. 1. 1.]]\n",
      "tensor([[1., 1., 1.],\n",
      "        [1., 1., 1.]], dtype=torch.float64)\n"
     ]
    }
   ],
   "source": [
    "import numpy as np\n",
    "\n",
    "nparr = np.ones((2,3))\n",
    "print(nparr)\n",
    "\n",
    "tensor = torch.from_numpy(nparr)\n",
    "print(tensor)"
   ]
  },
  {
   "cell_type": "code",
   "execution_count": 101,
   "id": "9ced15c0-e3b2-4613-bbd8-dcab89b3bb2e",
   "metadata": {},
   "outputs": [
    {
     "name": "stdout",
     "output_type": "stream",
     "text": [
      "tensor([[0.8862, 0.6215],\n",
      "        [0.0780, 0.0986]])\n",
      "[[0.8861934  0.62153304]\n",
      " [0.07804674 0.09863693]]\n",
      "tensor(42.)\n",
      "42.0\n",
      "tensor(101.)\n",
      "101.0\n"
     ]
    }
   ],
   "source": [
    "ptrand = torch.rand(2,2)\n",
    "print(ptrand)\n",
    "\n",
    "nprand = ptrand.numpy()\n",
    "print(nprand)\n",
    "\n",
    "# changes are reflected because they use the same underlying memory\n",
    "\n",
    "ptrand[0][0] = 42\n",
    "print(ptrand[0][0])\n",
    "print(nprand[0][0])\n",
    "\n",
    "nprand[0][0] = 101\n",
    "print(ptrand[0][0])\n",
    "print(nprand[0][0])"
   ]
  }
 ],
 "metadata": {
  "kernelspec": {
   "display_name": "Python 3 (ipykernel)",
   "language": "python",
   "name": "python3"
  },
  "language_info": {
   "codemirror_mode": {
    "name": "ipython",
    "version": 3
   },
   "file_extension": ".py",
   "mimetype": "text/x-python",
   "name": "python",
   "nbconvert_exporter": "python",
   "pygments_lexer": "ipython3",
   "version": "3.10.5"
  }
 },
 "nbformat": 4,
 "nbformat_minor": 5
}
